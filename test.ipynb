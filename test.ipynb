{
 "cells": [
  {
   "cell_type": "code",
   "execution_count": 3,
   "metadata": {},
   "outputs": [],
   "source": [
    "from voxypy.models import Entity, Voxel\n",
    "import numpy as np\n",
    "dense = np.zeros((10, 10, 10), dtype=int)"
   ]
  },
  {
   "cell_type": "code",
   "execution_count": 4,
   "metadata": {},
   "outputs": [
    {
     "ename": "FileNotFoundError",
     "evalue": "[Errno 2] No such file or directory: 'old_entity.vox'",
     "output_type": "error",
     "traceback": [
      "\u001b[1;31m---------------------------------------------------------------------------\u001b[0m",
      "\u001b[1;31mFileNotFoundError\u001b[0m                         Traceback (most recent call last)",
      "Cell \u001b[1;32mIn[4], line 11\u001b[0m\n\u001b[0;32m      8\u001b[0m entity\u001b[39m.\u001b[39mset(\u001b[39m5\u001b[39m, \u001b[39m5\u001b[39m, \u001b[39m5\u001b[39m, new_voxel)\n\u001b[0;32m      9\u001b[0m entity\u001b[39m.\u001b[39mset(\u001b[39m5\u001b[39m, \u001b[39m5\u001b[39m, \u001b[39m5\u001b[39m, \u001b[39m69\u001b[39m)\n\u001b[1;32m---> 11\u001b[0m entity \u001b[39m=\u001b[39m Entity()\u001b[39m.\u001b[39;49mfrom_file(\u001b[39m'\u001b[39;49m\u001b[39mold_entity.vox\u001b[39;49m\u001b[39m'\u001b[39;49m)\n\u001b[0;32m     12\u001b[0m \u001b[39m# optional\u001b[39;00m\n\u001b[0;32m     13\u001b[0m entity\u001b[39m.\u001b[39mset_palette_from_file(\u001b[39m'\u001b[39m\u001b[39mpalette.png\u001b[39m\u001b[39m'\u001b[39m)\n",
      "File \u001b[1;32m~\\AppData\\Roaming\\Python\\Python310\\site-packages\\voxypy\\models.py:143\u001b[0m, in \u001b[0;36mEntity.from_file\u001b[1;34m(self, filename)\u001b[0m\n\u001b[0;32m    142\u001b[0m \u001b[39mdef\u001b[39;00m \u001b[39mfrom_file\u001b[39m(\u001b[39mself\u001b[39m, filename):\n\u001b[1;32m--> 143\u001b[0m     voxels, palette \u001b[39m=\u001b[39m VoxParser(filename)\u001b[39m.\u001b[39mparse()\n\u001b[0;32m    144\u001b[0m     voxels \u001b[39m=\u001b[39m np\u001b[39m.\u001b[39mflip(voxels, axis\u001b[39m=\u001b[39m\u001b[39m2\u001b[39m)\n\u001b[0;32m    145\u001b[0m     \u001b[39m# voxels = np.rot90(voxels, 1, (0,2))\u001b[39;00m\n\u001b[0;32m    146\u001b[0m     \u001b[39m# voxels = np.flip(voxels, 2)\u001b[39;00m\n\u001b[0;32m    147\u001b[0m     \u001b[39m# voxels = np.rot90(voxels, 1, (1,2))\u001b[39;00m\n",
      "File \u001b[1;32m~\\AppData\\Roaming\\Python\\Python310\\site-packages\\voxypy\\numpy_vox_io\\parser.py:77\u001b[0m, in \u001b[0;36mVoxParser.__init__\u001b[1;34m(self, filename)\u001b[0m\n\u001b[0;32m     76\u001b[0m \u001b[39mdef\u001b[39;00m \u001b[39m__init__\u001b[39m(\u001b[39mself\u001b[39m, filename):\n\u001b[1;32m---> 77\u001b[0m     \u001b[39mwith\u001b[39;00m \u001b[39mopen\u001b[39;49m(filename, \u001b[39m'\u001b[39;49m\u001b[39mrb\u001b[39;49m\u001b[39m'\u001b[39;49m) \u001b[39mas\u001b[39;00m f:\n\u001b[0;32m     78\u001b[0m         \u001b[39mself\u001b[39m\u001b[39m.\u001b[39mcontent \u001b[39m=\u001b[39m f\u001b[39m.\u001b[39mread()\n\u001b[0;32m     80\u001b[0m     \u001b[39mself\u001b[39m\u001b[39m.\u001b[39moffset \u001b[39m=\u001b[39m \u001b[39m0\u001b[39m\n",
      "\u001b[1;31mFileNotFoundError\u001b[0m: [Errno 2] No such file or directory: 'old_entity.vox'"
     ]
    }
   ],
   "source": [
    "entity = Entity(data=dense)\n",
    "entity.set(x=1, y=2, z=3, color=42)\n",
    "voxel = entity.get(1, 2, 3) # Voxel object with value 42\n",
    "\n",
    "voxel.add(1) # Voxel object with value 43\n",
    "new_voxel = Voxel(255)\n",
    "new_voxel.add(1) # Returns Voxel object with value 1\n",
    "entity.set(5, 5, 5, new_voxel)\n",
    "entity.set(5, 5, 5, 69)\n",
    "\n",
    "entity = Entity().from_file('old_entity.vox')\n",
    "# optional\n",
    "entity.set_palette_from_file('palette.png')\n",
    "entity.save('new_entity.vox')"
   ]
  },
  {
   "cell_type": "code",
   "execution_count": null,
   "metadata": {},
   "outputs": [],
   "source": []
  }
 ],
 "metadata": {
  "kernelspec": {
   "display_name": "base",
   "language": "python",
   "name": "python3"
  },
  "language_info": {
   "codemirror_mode": {
    "name": "ipython",
    "version": 3
   },
   "file_extension": ".py",
   "mimetype": "text/x-python",
   "name": "python",
   "nbconvert_exporter": "python",
   "pygments_lexer": "ipython3",
   "version": "3.10.9"
  },
  "orig_nbformat": 4
 },
 "nbformat": 4,
 "nbformat_minor": 2
}
